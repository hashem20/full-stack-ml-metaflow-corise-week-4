{
 "cells": [
  {
   "attachments": {},
   "cell_type": "markdown",
   "metadata": {},
   "source": [
    "# Teamwork Makes the Dream Work\n",
    "\n",
    "In week three, we deployed a workflow, which is awesome!\n",
    "Let's say you now want to keep improving this model. You want to go back and prototype, but you don’t want to overwrite your - or your teammate's - existing model.\n",
    "How can you setup parallel deployments to make this a seamless process? \n",
    "Moreover, as your project takes off and more developers at your organization want to contribute to your ML system, how to iterate on new, experimental versions of the workflow while providing stable results to your stakeholders? \n",
    "\n",
    "In this week, you will learn:\n",
    "___\n",
    "- Metaflowing well with others\n",
    "- Deploying parallel branches of your workflow to production using `@project`\n",
    "- Setting up a challenger/champion pattern in production\n",
    "- Analyzing results of Argo workflows in notebooks\n",
    "- Fundamentals of hosting models\n",
    "___\n"
   ]
  },
  {
   "cell_type": "code",
   "execution_count": 1,
   "metadata": {},
   "outputs": [],
   "source": [
    "%%capture\n",
    "\n",
    "# Run this cell to ensure dependencies for this week are in your full-stack-metaflow-corise environment. \n",
    "\n",
    "! mamba install fastapi uvicorn -y\n",
    "! pip install -U metaflow"
   ]
  }
 ],
 "metadata": {
  "kernelspec": {
   "display_name": "full-stack-metaflow-corise",
   "language": "python",
   "name": "python3"
  },
  "language_info": {
   "codemirror_mode": {
    "name": "ipython",
    "version": 3
   },
   "file_extension": ".py",
   "mimetype": "text/x-python",
   "name": "python",
   "nbconvert_exporter": "python",
   "pygments_lexer": "ipython3",
   "version": "3.10.8"
  },
  "orig_nbformat": 4
 },
 "nbformat": 4,
 "nbformat_minor": 2
}
